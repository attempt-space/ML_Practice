{
 "cells": [
  {
   "cell_type": "code",
   "execution_count": 88,
   "id": "ea44e2f8-23dc-4dc9-ba96-7505b0e1ddd2",
   "metadata": {},
   "outputs": [],
   "source": [
    "import pandas as pd\n",
    "import numpy as np\n",
    "import seaborn as sns\n",
    "import matplotlib.pyplot as plt\n"
   ]
  },
  {
   "cell_type": "code",
   "execution_count": 89,
   "id": "de19d2e9-c3b3-49ed-b7b4-29d650b96f59",
   "metadata": {},
   "outputs": [],
   "source": [
    "cardata = pd.read_csv(\"car_evaluation.csv\",header=None)"
   ]
  },
  {
   "cell_type": "markdown",
   "id": "2953909d-f76a-42e5-8218-6312b90138f2",
   "metadata": {},
   "source": [
    "We have taken reference of same data set.. and built a Random classifier and have improved overall accuracy"
   ]
  },
  {
   "cell_type": "code",
   "execution_count": 90,
   "id": "3c9d131a-3409-41f7-aaee-963e9f4d67d8",
   "metadata": {
    "scrolled": true
   },
   "outputs": [
    {
     "name": "stdout",
     "output_type": "stream",
     "text": [
      "       0      1  2  3      4     5      6\n",
      "0  vhigh  vhigh  2  2  small   low  unacc\n",
      "1  vhigh  vhigh  2  2  small   med  unacc\n",
      "2  vhigh  vhigh  2  2  small  high  unacc\n",
      "3  vhigh  vhigh  2  2    med   low  unacc\n",
      "4  vhigh  vhigh  2  2    med   med  unacc\n"
     ]
    },
    {
     "data": {
      "text/plain": [
       "(1728, 7)"
      ]
     },
     "execution_count": 90,
     "metadata": {},
     "output_type": "execute_result"
    }
   ],
   "source": [
    "print(cardata.head())\n",
    "cardata.shape"
   ]
  },
  {
   "cell_type": "markdown",
   "id": "9ab2cb4b-9984-44f9-9bbc-dbad2179e0c1",
   "metadata": {},
   "source": [
    "we see that column names are empty so from the source of Data set we came to know about the columns. Hence assigning Column names.\n",
    "\n",
    "Also, we are checking for Null values in data set."
   ]
  },
  {
   "cell_type": "code",
   "execution_count": 91,
   "id": "8cc98d82-a789-43e9-aaf8-1cad22f9b095",
   "metadata": {},
   "outputs": [
    {
     "name": "stdout",
     "output_type": "stream",
     "text": [
      "vhigh    432\n",
      "high     432\n",
      "med      432\n",
      "low      432\n",
      "Name: buying_price, dtype: int64\n",
      "vhigh    432\n",
      "high     432\n",
      "med      432\n",
      "low      432\n",
      "Name: maintenance_cost, dtype: int64\n",
      "2        432\n",
      "3        432\n",
      "4        432\n",
      "5more    432\n",
      "Name: number_of_doors, dtype: int64\n",
      "2       576\n",
      "4       576\n",
      "more    576\n",
      "Name: number_of_persons, dtype: int64\n",
      "small    576\n",
      "med      576\n",
      "big      576\n",
      "Name: lug_boot, dtype: int64\n",
      "low     576\n",
      "med     576\n",
      "high    576\n",
      "Name: safety, dtype: int64\n",
      "unacc    1210\n",
      "acc       384\n",
      "good       69\n",
      "vgood      65\n",
      "Name: decision, dtype: int64\n"
     ]
    },
    {
     "data": {
      "text/plain": [
       "buying_price         0\n",
       "maintenance_cost     0\n",
       "number_of_doors      0\n",
       "number_of_persons    0\n",
       "lug_boot             0\n",
       "safety               0\n",
       "decision             0\n",
       "dtype: int64"
      ]
     },
     "execution_count": 91,
     "metadata": {},
     "output_type": "execute_result"
    }
   ],
   "source": [
    "columnames = [\"buying_price\",\"maintenance_cost\",\"number_of_doors\",\"number_of_persons\",\"lug_boot\",\"safety\",\"decision\"]\n",
    "cardata.columns = columnames\n",
    "cardata.head()\n",
    "for column in columnames:\n",
    "    print(cardata[column].value_counts())\n",
    "    \n",
    "cardata.isna().sum()"
   ]
  },
  {
   "cell_type": "markdown",
   "id": "b108ac0d",
   "metadata": {},
   "source": [
    "The inference is that there are no Null values for any features in Data set. Now, we are in a state to predict our Target variable \"Decision\". hence removing it and assigning it to the target variable."
   ]
  },
  {
   "cell_type": "code",
   "execution_count": 92,
   "id": "5b1cd609-6cec-40e8-bff2-91864506c43b",
   "metadata": {},
   "outputs": [],
   "source": [
    "X= cardata.drop([\"decision\"],axis =1)\n",
    "y= cardata[\"decision\"]\n",
    "X.head()\n",
    "\n",
    "y.head()\n",
    "\n",
    "from sklearn.model_selection import train_test_split\n",
    "X_train,X_test,y_train,y_test = train_test_split(X,y,test_size=0.33,random_state=42)\n"
   ]
  },
  {
   "cell_type": "markdown",
   "id": "4b314f61",
   "metadata": {},
   "source": [
    "we see that column names are empty so from the source of Data set we came to know about the columns. Hence assigning Column names.\n",
    "\n",
    "Also, we are checking for Null values in data set."
   ]
  },
  {
   "cell_type": "code",
   "execution_count": 93,
   "id": "f24e263f-7b04-4b9a-b00a-c0c2980d38a2",
   "metadata": {},
   "outputs": [
    {
     "name": "stdout",
     "output_type": "stream",
     "text": [
      "(571, 6)\n"
     ]
    },
    {
     "data": {
      "text/plain": [
       "buying_price         object\n",
       "maintenance_cost     object\n",
       "number_of_doors      object\n",
       "number_of_persons    object\n",
       "lug_boot             object\n",
       "safety               object\n",
       "dtype: object"
      ]
     },
     "execution_count": 93,
     "metadata": {},
     "output_type": "execute_result"
    }
   ],
   "source": [
    "X_train.shape\n",
    "print(X_test.shape)\n",
    "y_train.shape\n",
    "X_train.dtypes"
   ]
  },
  {
   "cell_type": "markdown",
   "id": "be381bf7",
   "metadata": {},
   "source": [
    "So we see that all the variables are categorical & hence we are doing Enconding for all the categorical variable"
   ]
  },
  {
   "cell_type": "code",
   "execution_count": 94,
   "id": "a364807e-474c-48ef-b38d-6271e9c0766e",
   "metadata": {},
   "outputs": [
    {
     "name": "stderr",
     "output_type": "stream",
     "text": [
      "C:\\Users\\sivap\\anaconda3\\envs\\tf-gpu\\lib\\site-packages\\category_encoders\\utils.py:21: FutureWarning: is_categorical is deprecated and will be removed in a future version. Use is_categorical_dtype instead.\n",
      "  elif pd.api.types.is_categorical(cols):\n",
      "C:\\Users\\sivap\\anaconda3\\envs\\tf-gpu\\lib\\site-packages\\category_encoders\\utils.py:21: FutureWarning: is_categorical is deprecated and will be removed in a future version. Use is_categorical_dtype instead.\n",
      "  elif pd.api.types.is_categorical(cols):\n"
     ]
    },
    {
     "data": {
      "text/html": [
       "<div>\n",
       "<style scoped>\n",
       "    .dataframe tbody tr th:only-of-type {\n",
       "        vertical-align: middle;\n",
       "    }\n",
       "\n",
       "    .dataframe tbody tr th {\n",
       "        vertical-align: top;\n",
       "    }\n",
       "\n",
       "    .dataframe thead th {\n",
       "        text-align: right;\n",
       "    }\n",
       "</style>\n",
       "<table border=\"1\" class=\"dataframe\">\n",
       "  <thead>\n",
       "    <tr style=\"text-align: right;\">\n",
       "      <th></th>\n",
       "      <th>buying_price</th>\n",
       "      <th>maintenance_cost</th>\n",
       "      <th>number_of_doors</th>\n",
       "      <th>number_of_persons</th>\n",
       "      <th>lug_boot</th>\n",
       "      <th>safety</th>\n",
       "    </tr>\n",
       "  </thead>\n",
       "  <tbody>\n",
       "    <tr>\n",
       "      <th>48</th>\n",
       "      <td>1</td>\n",
       "      <td>1</td>\n",
       "      <td>1</td>\n",
       "      <td>1</td>\n",
       "      <td>1</td>\n",
       "      <td>1</td>\n",
       "    </tr>\n",
       "    <tr>\n",
       "      <th>468</th>\n",
       "      <td>2</td>\n",
       "      <td>1</td>\n",
       "      <td>1</td>\n",
       "      <td>2</td>\n",
       "      <td>2</td>\n",
       "      <td>1</td>\n",
       "    </tr>\n",
       "    <tr>\n",
       "      <th>155</th>\n",
       "      <td>1</td>\n",
       "      <td>2</td>\n",
       "      <td>1</td>\n",
       "      <td>1</td>\n",
       "      <td>2</td>\n",
       "      <td>2</td>\n",
       "    </tr>\n",
       "    <tr>\n",
       "      <th>1721</th>\n",
       "      <td>3</td>\n",
       "      <td>3</td>\n",
       "      <td>2</td>\n",
       "      <td>1</td>\n",
       "      <td>2</td>\n",
       "      <td>2</td>\n",
       "    </tr>\n",
       "    <tr>\n",
       "      <th>1208</th>\n",
       "      <td>4</td>\n",
       "      <td>3</td>\n",
       "      <td>3</td>\n",
       "      <td>1</td>\n",
       "      <td>2</td>\n",
       "      <td>2</td>\n",
       "    </tr>\n",
       "  </tbody>\n",
       "</table>\n",
       "</div>"
      ],
      "text/plain": [
       "      buying_price  maintenance_cost  number_of_doors  number_of_persons  \\\n",
       "48               1                 1                1                  1   \n",
       "468              2                 1                1                  2   \n",
       "155              1                 2                1                  1   \n",
       "1721             3                 3                2                  1   \n",
       "1208             4                 3                3                  1   \n",
       "\n",
       "      lug_boot  safety  \n",
       "48           1       1  \n",
       "468          2       1  \n",
       "155          2       2  \n",
       "1721         2       2  \n",
       "1208         2       2  "
      ]
     },
     "execution_count": 94,
     "metadata": {},
     "output_type": "execute_result"
    }
   ],
   "source": [
    "import category_encoders as ce\n",
    "encoder = ce.OrdinalEncoder(cols = [\"buying_price\",\"maintenance_cost\",\"number_of_doors\",\"number_of_persons\",\"lug_boot\",\"safety\"])\n",
    "X_train = encoder.fit_transform(X_train)\n",
    "X_test = encoder.fit_transform(X_test)\n",
    "X_train.head()\n"
   ]
  },
  {
   "cell_type": "code",
   "execution_count": 95,
   "id": "3516d6ab-6b2a-436d-bf27-3305ec4cc953",
   "metadata": {
    "tags": []
   },
   "outputs": [],
   "source": [
    "from sklearn.ensemble import RandomForestClassifier\n",
    "\n",
    "classifier_rf = RandomForestClassifier(random_state=42,n_jobs=-1,max_depth=5,n_estimators=100,oob_score=True)\n"
   ]
  },
  {
   "cell_type": "markdown",
   "id": "2a5e5247",
   "metadata": {},
   "source": [
    "With \"gini\" Index as attribute selection measure we are predicting the Decision tree classifier"
   ]
  },
  {
   "cell_type": "code",
   "execution_count": 96,
   "id": "b2e22a1f-f807-4b2e-818a-b157cb0bcf60",
   "metadata": {},
   "outputs": [
    {
     "data": {
      "text/plain": [
       "RandomForestClassifier(max_depth=5, n_jobs=-1, oob_score=True, random_state=42)"
      ]
     },
     "execution_count": 96,
     "metadata": {},
     "output_type": "execute_result"
    }
   ],
   "source": [
    "classifier_rf.fit(X_train, y_train)\n"
   ]
  },
  {
   "cell_type": "code",
   "execution_count": 97,
   "id": "e0f68f1f-abfb-47a4-9eb7-9763a6564131",
   "metadata": {},
   "outputs": [
    {
     "data": {
      "text/plain": [
       "0.8660328435609335"
      ]
     },
     "execution_count": 97,
     "metadata": {},
     "output_type": "execute_result"
    }
   ],
   "source": [
    "classifier_rf.oob_score_\n"
   ]
  },
  {
   "cell_type": "code",
   "execution_count": 98,
   "id": "db3b0a40-3062-4408-8147-18c60d3a6df1",
   "metadata": {},
   "outputs": [],
   "source": [
    "rf = RandomForestClassifier(random_state=42, n_jobs=-1)\n",
    "params = {\n",
    "    'max_depth': [2,3,5],\n",
    "    'min_samples_leaf': [5,10],\n",
    "    'n_estimators': [10,25]\n",
    "}"
   ]
  },
  {
   "cell_type": "code",
   "execution_count": 99,
   "id": "126b851b-3cd2-4eac-9ad0-aef898082ee4",
   "metadata": {},
   "outputs": [],
   "source": [
    "from sklearn.model_selection import GridSearchCV\n",
    "grid_search = GridSearchCV(estimator=rf,param_grid=params,cv=4,n_jobs=-1,verbose=1,scoring=\"accuracy\")"
   ]
  },
  {
   "cell_type": "code",
   "execution_count": 100,
   "id": "4870382f-7142-404f-b0c4-3d7a8b0b656d",
   "metadata": {},
   "outputs": [
    {
     "name": "stdout",
     "output_type": "stream",
     "text": [
      "Fitting 4 folds for each of 12 candidates, totalling 48 fits\n"
     ]
    },
    {
     "data": {
      "text/plain": [
       "0.8608489440400907"
      ]
     },
     "execution_count": 100,
     "metadata": {},
     "output_type": "execute_result"
    }
   ],
   "source": [
    "grid_search.fit(X_train, y_train)\n",
    "grid_search.best_score_\n"
   ]
  },
  {
   "cell_type": "code",
   "execution_count": 101,
   "id": "38b2e4aa-20c6-4602-b328-cfbb9c02b9a3",
   "metadata": {},
   "outputs": [
    {
     "name": "stdout",
     "output_type": "stream",
     "text": [
      "Model accuracy score with criterion entropy index: 0.8581\n"
     ]
    }
   ],
   "source": [
    "rf_best = grid_search.best_estimator_\n",
    "rf_best\n",
    "y_pred_forest = rf_best.predict(X_test)\n",
    "from sklearn.metrics import accuracy_score\n",
    "\n",
    "print(\"Model accuracy score with criterion entropy index: {0:0.4f}\".format(accuracy_score(y_test,y_pred_forest)))\n"
   ]
  },
  {
   "cell_type": "code",
   "execution_count": 102,
   "id": "a209a7f6-7534-4cd4-9399-360cbaba8426",
   "metadata": {},
   "outputs": [
    {
     "data": {
      "image/svg+xml": [
       "<?xml version=\"1.0\" encoding=\"UTF-8\" standalone=\"no\"?>\r\n",
       "<!DOCTYPE svg PUBLIC \"-//W3C//DTD SVG 1.1//EN\"\r\n",
       " \"http://www.w3.org/Graphics/SVG/1.1/DTD/svg11.dtd\">\r\n",
       "<!-- Generated by graphviz version 2.38.0 (20140413.2041)\r\n",
       " -->\r\n",
       "<!-- Title: Tree Pages: 1 -->\r\n",
       "<svg width=\"1294pt\" height=\"671pt\"\r\n",
       " viewBox=\"0.00 0.00 1294.00 671.00\" xmlns=\"http://www.w3.org/2000/svg\" xmlns:xlink=\"http://www.w3.org/1999/xlink\">\r\n",
       "<g id=\"graph0\" class=\"graph\" transform=\"scale(1 1) rotate(0) translate(4 667)\">\r\n",
       "<title>Tree</title>\r\n",
       "<polygon fill=\"white\" stroke=\"none\" points=\"-4,4 -4,-667 1290,-667 1290,4 -4,4\"/>\r\n",
       "<!-- 0 -->\r\n",
       "<g id=\"node1\" class=\"node\"><title>0</title>\r\n",
       "<path fill=\"#7cbeee\" stroke=\"black\" d=\"M700,-663C700,-663 543,-663 543,-663 537,-663 531,-657 531,-651 531,-651 531,-592 531,-592 531,-586 537,-580 543,-580 543,-580 700,-580 700,-580 706,-580 712,-586 712,-592 712,-592 712,-651 712,-651 712,-657 706,-663 700,-663\"/>\r\n",
       "<text text-anchor=\"start\" x=\"539\" y=\"-647.8\" font-family=\"Helvetica,sans-Serif\" font-size=\"14.00\">number_of_persons ≤ 2.5</text>\r\n",
       "<text text-anchor=\"start\" x=\"584\" y=\"-632.8\" font-family=\"Helvetica,sans-Serif\" font-size=\"14.00\">gini = 0.429</text>\r\n",
       "<text text-anchor=\"start\" x=\"574\" y=\"-617.8\" font-family=\"Helvetica,sans-Serif\" font-size=\"14.00\">samples = 745</text>\r\n",
       "<text text-anchor=\"start\" x=\"540.5\" y=\"-602.8\" font-family=\"Helvetica,sans-Serif\" font-size=\"14.00\">value = [227, 51, 842, 37]</text>\r\n",
       "<text text-anchor=\"start\" x=\"578\" y=\"-587.8\" font-family=\"Helvetica,sans-Serif\" font-size=\"14.00\">class = unacc</text>\r\n",
       "</g>\r\n",
       "<!-- 1 -->\r\n",
       "<g id=\"node2\" class=\"node\"><title>1</title>\r\n",
       "<path fill=\"#afd7f4\" stroke=\"black\" d=\"M608.5,-544C608.5,-544 454.5,-544 454.5,-544 448.5,-544 442.5,-538 442.5,-532 442.5,-532 442.5,-473 442.5,-473 442.5,-467 448.5,-461 454.5,-461 454.5,-461 608.5,-461 608.5,-461 614.5,-461 620.5,-467 620.5,-473 620.5,-473 620.5,-532 620.5,-532 620.5,-538 614.5,-544 608.5,-544\"/>\r\n",
       "<text text-anchor=\"start\" x=\"494.5\" y=\"-528.8\" font-family=\"Helvetica,sans-Serif\" font-size=\"14.00\">safety ≤ 1.5</text>\r\n",
       "<text text-anchor=\"start\" x=\"494\" y=\"-513.8\" font-family=\"Helvetica,sans-Serif\" font-size=\"14.00\">gini = 0.562</text>\r\n",
       "<text text-anchor=\"start\" x=\"484\" y=\"-498.8\" font-family=\"Helvetica,sans-Serif\" font-size=\"14.00\">samples = 504</text>\r\n",
       "<text text-anchor=\"start\" x=\"450.5\" y=\"-483.8\" font-family=\"Helvetica,sans-Serif\" font-size=\"14.00\">value = [227, 51, 442, 37]</text>\r\n",
       "<text text-anchor=\"start\" x=\"488\" y=\"-468.8\" font-family=\"Helvetica,sans-Serif\" font-size=\"14.00\">class = unacc</text>\r\n",
       "</g>\r\n",
       "<!-- 0&#45;&gt;1 -->\r\n",
       "<g id=\"edge1\" class=\"edge\"><title>0&#45;&gt;1</title>\r\n",
       "<path fill=\"none\" stroke=\"black\" d=\"M590.275,-579.907C583.364,-570.923 575.973,-561.315 568.846,-552.05\"/>\r\n",
       "<polygon fill=\"black\" stroke=\"black\" points=\"571.541,-549.813 562.67,-544.021 565.993,-554.081 571.541,-549.813\"/>\r\n",
       "<text text-anchor=\"middle\" x=\"559.436\" y=\"-565.111\" font-family=\"Helvetica,sans-Serif\" font-size=\"14.00\">True</text>\r\n",
       "</g>\r\n",
       "<!-- 18 -->\r\n",
       "<g id=\"node19\" class=\"node\"><title>18</title>\r\n",
       "<path fill=\"#399de5\" stroke=\"black\" d=\"M772,-536.5C772,-536.5 651,-536.5 651,-536.5 645,-536.5 639,-530.5 639,-524.5 639,-524.5 639,-480.5 639,-480.5 639,-474.5 645,-468.5 651,-468.5 651,-468.5 772,-468.5 772,-468.5 778,-468.5 784,-474.5 784,-480.5 784,-480.5 784,-524.5 784,-524.5 784,-530.5 778,-536.5 772,-536.5\"/>\r\n",
       "<text text-anchor=\"start\" x=\"682.5\" y=\"-521.3\" font-family=\"Helvetica,sans-Serif\" font-size=\"14.00\">gini = 0.0</text>\r\n",
       "<text text-anchor=\"start\" x=\"664\" y=\"-506.3\" font-family=\"Helvetica,sans-Serif\" font-size=\"14.00\">samples = 241</text>\r\n",
       "<text text-anchor=\"start\" x=\"647\" y=\"-491.3\" font-family=\"Helvetica,sans-Serif\" font-size=\"14.00\">value = [0, 0, 400, 0]</text>\r\n",
       "<text text-anchor=\"start\" x=\"668\" y=\"-476.3\" font-family=\"Helvetica,sans-Serif\" font-size=\"14.00\">class = unacc</text>\r\n",
       "</g>\r\n",
       "<!-- 0&#45;&gt;18 -->\r\n",
       "<g id=\"edge18\" class=\"edge\"><title>0&#45;&gt;18</title>\r\n",
       "<path fill=\"none\" stroke=\"black\" d=\"M652.725,-579.907C661.468,-568.542 670.978,-556.178 679.751,-544.774\"/>\r\n",
       "<polygon fill=\"black\" stroke=\"black\" points=\"682.664,-546.727 685.987,-536.667 677.116,-542.459 682.664,-546.727\"/>\r\n",
       "<text text-anchor=\"middle\" x=\"689.22\" y=\"-557.757\" font-family=\"Helvetica,sans-Serif\" font-size=\"14.00\">False</text>\r\n",
       "</g>\r\n",
       "<!-- 2 -->\r\n",
       "<g id=\"node3\" class=\"node\"><title>2</title>\r\n",
       "<path fill=\"#399de5\" stroke=\"black\" d=\"M502,-417.5C502,-417.5 381,-417.5 381,-417.5 375,-417.5 369,-411.5 369,-405.5 369,-405.5 369,-361.5 369,-361.5 369,-355.5 375,-349.5 381,-349.5 381,-349.5 502,-349.5 502,-349.5 508,-349.5 514,-355.5 514,-361.5 514,-361.5 514,-405.5 514,-405.5 514,-411.5 508,-417.5 502,-417.5\"/>\r\n",
       "<text text-anchor=\"start\" x=\"412.5\" y=\"-402.3\" font-family=\"Helvetica,sans-Serif\" font-size=\"14.00\">gini = 0.0</text>\r\n",
       "<text text-anchor=\"start\" x=\"394\" y=\"-387.3\" font-family=\"Helvetica,sans-Serif\" font-size=\"14.00\">samples = 174</text>\r\n",
       "<text text-anchor=\"start\" x=\"377\" y=\"-372.3\" font-family=\"Helvetica,sans-Serif\" font-size=\"14.00\">value = [0, 0, 263, 0]</text>\r\n",
       "<text text-anchor=\"start\" x=\"398\" y=\"-357.3\" font-family=\"Helvetica,sans-Serif\" font-size=\"14.00\">class = unacc</text>\r\n",
       "</g>\r\n",
       "<!-- 1&#45;&gt;2 -->\r\n",
       "<g id=\"edge2\" class=\"edge\"><title>1&#45;&gt;2</title>\r\n",
       "<path fill=\"none\" stroke=\"black\" d=\"M500.275,-460.907C491.532,-449.542 482.022,-437.178 473.249,-425.774\"/>\r\n",
       "<polygon fill=\"black\" stroke=\"black\" points=\"475.884,-423.459 467.013,-417.667 470.336,-427.727 475.884,-423.459\"/>\r\n",
       "</g>\r\n",
       "<!-- 3 -->\r\n",
       "<g id=\"node4\" class=\"node\"><title>3</title>\r\n",
       "<path fill=\"#fbece1\" stroke=\"black\" d=\"M698.5,-425C698.5,-425 544.5,-425 544.5,-425 538.5,-425 532.5,-419 532.5,-413 532.5,-413 532.5,-354 532.5,-354 532.5,-348 538.5,-342 544.5,-342 544.5,-342 698.5,-342 698.5,-342 704.5,-342 710.5,-348 710.5,-354 710.5,-354 710.5,-413 710.5,-413 710.5,-419 704.5,-425 698.5,-425\"/>\r\n",
       "<text text-anchor=\"start\" x=\"546\" y=\"-409.8\" font-family=\"Helvetica,sans-Serif\" font-size=\"14.00\">maintenance_cost ≤ 2.5</text>\r\n",
       "<text text-anchor=\"start\" x=\"584\" y=\"-394.8\" font-family=\"Helvetica,sans-Serif\" font-size=\"14.00\">gini = 0.641</text>\r\n",
       "<text text-anchor=\"start\" x=\"574\" y=\"-379.8\" font-family=\"Helvetica,sans-Serif\" font-size=\"14.00\">samples = 330</text>\r\n",
       "<text text-anchor=\"start\" x=\"540.5\" y=\"-364.8\" font-family=\"Helvetica,sans-Serif\" font-size=\"14.00\">value = [227, 51, 179, 37]</text>\r\n",
       "<text text-anchor=\"start\" x=\"578\" y=\"-349.8\" font-family=\"Helvetica,sans-Serif\" font-size=\"14.00\">class = unacc</text>\r\n",
       "</g>\r\n",
       "<!-- 1&#45;&gt;3 -->\r\n",
       "<g id=\"edge3\" class=\"edge\"><title>1&#45;&gt;3</title>\r\n",
       "<path fill=\"none\" stroke=\"black\" d=\"M562.725,-460.907C569.636,-451.923 577.027,-442.315 584.154,-433.05\"/>\r\n",
       "<polygon fill=\"black\" stroke=\"black\" points=\"587.007,-435.081 590.33,-425.021 581.459,-430.813 587.007,-435.081\"/>\r\n",
       "</g>\r\n",
       "<!-- 4 -->\r\n",
       "<g id=\"node5\" class=\"node\"><title>4</title>\r\n",
       "<path fill=\"#cbe5f8\" stroke=\"black\" d=\"M529,-306C529,-306 386,-306 386,-306 380,-306 374,-300 374,-294 374,-294 374,-235 374,-235 374,-229 380,-223 386,-223 386,-223 529,-223 529,-223 535,-223 541,-229 541,-235 541,-235 541,-294 541,-294 541,-300 535,-306 529,-306\"/>\r\n",
       "<text text-anchor=\"start\" x=\"382\" y=\"-290.8\" font-family=\"Helvetica,sans-Serif\" font-size=\"14.00\">maintenance_cost ≤ 1.5</text>\r\n",
       "<text text-anchor=\"start\" x=\"420\" y=\"-275.8\" font-family=\"Helvetica,sans-Serif\" font-size=\"14.00\">gini = 0.516</text>\r\n",
       "<text text-anchor=\"start\" x=\"410\" y=\"-260.8\" font-family=\"Helvetica,sans-Serif\" font-size=\"14.00\">samples = 166</text>\r\n",
       "<text text-anchor=\"start\" x=\"389\" y=\"-245.8\" font-family=\"Helvetica,sans-Serif\" font-size=\"14.00\">value = [97, 0, 134, 7]</text>\r\n",
       "<text text-anchor=\"start\" x=\"414\" y=\"-230.8\" font-family=\"Helvetica,sans-Serif\" font-size=\"14.00\">class = unacc</text>\r\n",
       "</g>\r\n",
       "<!-- 3&#45;&gt;4 -->\r\n",
       "<g id=\"edge4\" class=\"edge\"><title>3&#45;&gt;4</title>\r\n",
       "<path fill=\"none\" stroke=\"black\" d=\"M564.601,-341.907C551.117,-332.288 536.631,-321.953 522.806,-312.09\"/>\r\n",
       "<polygon fill=\"black\" stroke=\"black\" points=\"524.472,-308.979 514.298,-306.021 520.406,-314.678 524.472,-308.979\"/>\r\n",
       "</g>\r\n",
       "<!-- 11 -->\r\n",
       "<g id=\"node12\" class=\"node\"><title>11</title>\r\n",
       "<path fill=\"#f5ceb3\" stroke=\"black\" d=\"M855.5,-306C855.5,-306 709.5,-306 709.5,-306 703.5,-306 697.5,-300 697.5,-294 697.5,-294 697.5,-235 697.5,-235 697.5,-229 703.5,-223 709.5,-223 709.5,-223 855.5,-223 855.5,-223 861.5,-223 867.5,-229 867.5,-235 867.5,-235 867.5,-294 867.5,-294 867.5,-300 861.5,-306 855.5,-306\"/>\r\n",
       "<text text-anchor=\"start\" x=\"724\" y=\"-290.8\" font-family=\"Helvetica,sans-Serif\" font-size=\"14.00\">buying_price ≤ 2.5</text>\r\n",
       "<text text-anchor=\"start\" x=\"745\" y=\"-275.8\" font-family=\"Helvetica,sans-Serif\" font-size=\"14.00\">gini = 0.658</text>\r\n",
       "<text text-anchor=\"start\" x=\"735\" y=\"-260.8\" font-family=\"Helvetica,sans-Serif\" font-size=\"14.00\">samples = 164</text>\r\n",
       "<text text-anchor=\"start\" x=\"705.5\" y=\"-245.8\" font-family=\"Helvetica,sans-Serif\" font-size=\"14.00\">value = [130, 51, 45, 30]</text>\r\n",
       "<text text-anchor=\"start\" x=\"739\" y=\"-230.8\" font-family=\"Helvetica,sans-Serif\" font-size=\"14.00\">class = unacc</text>\r\n",
       "</g>\r\n",
       "<!-- 3&#45;&gt;11 -->\r\n",
       "<g id=\"edge11\" class=\"edge\"><title>3&#45;&gt;11</title>\r\n",
       "<path fill=\"none\" stroke=\"black\" d=\"M677.358,-341.907C690.595,-332.288 704.816,-321.953 718.389,-312.09\"/>\r\n",
       "<polygon fill=\"black\" stroke=\"black\" points=\"720.709,-314.731 726.741,-306.021 716.593,-309.068 720.709,-314.731\"/>\r\n",
       "</g>\r\n",
       "<!-- 5 -->\r\n",
       "<g id=\"node6\" class=\"node\"><title>5</title>\r\n",
       "<path fill=\"#a4d2f3\" stroke=\"black\" d=\"M288,-187C288,-187 167,-187 167,-187 161,-187 155,-181 155,-175 155,-175 155,-116 155,-116 155,-110 161,-104 167,-104 167,-104 288,-104 288,-104 294,-104 300,-110 300,-116 300,-116 300,-175 300,-175 300,-181 294,-187 288,-187\"/>\r\n",
       "<text text-anchor=\"start\" x=\"169\" y=\"-171.8\" font-family=\"Helvetica,sans-Serif\" font-size=\"14.00\">buying_price ≤ 2.5</text>\r\n",
       "<text text-anchor=\"start\" x=\"190\" y=\"-156.8\" font-family=\"Helvetica,sans-Serif\" font-size=\"14.00\">gini = 0.455</text>\r\n",
       "<text text-anchor=\"start\" x=\"184\" y=\"-141.8\" font-family=\"Helvetica,sans-Serif\" font-size=\"14.00\">samples = 86</text>\r\n",
       "<text text-anchor=\"start\" x=\"163\" y=\"-126.8\" font-family=\"Helvetica,sans-Serif\" font-size=\"14.00\">value = [42, 0, 78, 0]</text>\r\n",
       "<text text-anchor=\"start\" x=\"184\" y=\"-111.8\" font-family=\"Helvetica,sans-Serif\" font-size=\"14.00\">class = unacc</text>\r\n",
       "</g>\r\n",
       "<!-- 4&#45;&gt;5 -->\r\n",
       "<g id=\"edge5\" class=\"edge\"><title>4&#45;&gt;5</title>\r\n",
       "<path fill=\"none\" stroke=\"black\" d=\"M377.703,-222.907C355.58,-211.654 331.534,-199.422 309.299,-188.111\"/>\r\n",
       "<polygon fill=\"black\" stroke=\"black\" points=\"310.722,-184.908 300.222,-183.493 307.548,-191.147 310.722,-184.908\"/>\r\n",
       "</g>\r\n",
       "<!-- 8 -->\r\n",
       "<g id=\"node9\" class=\"node\"><title>8</title>\r\n",
       "<path fill=\"#fcfdff\" stroke=\"black\" d=\"M518,-187C518,-187 397,-187 397,-187 391,-187 385,-181 385,-175 385,-175 385,-116 385,-116 385,-110 391,-104 397,-104 397,-104 518,-104 518,-104 524,-104 530,-110 530,-116 530,-116 530,-175 530,-175 530,-181 524,-187 518,-187\"/>\r\n",
       "<text text-anchor=\"start\" x=\"412\" y=\"-171.8\" font-family=\"Helvetica,sans-Serif\" font-size=\"14.00\">lug_boot ≤ 2.5</text>\r\n",
       "<text text-anchor=\"start\" x=\"420\" y=\"-156.8\" font-family=\"Helvetica,sans-Serif\" font-size=\"14.00\">gini = 0.554</text>\r\n",
       "<text text-anchor=\"start\" x=\"414\" y=\"-141.8\" font-family=\"Helvetica,sans-Serif\" font-size=\"14.00\">samples = 80</text>\r\n",
       "<text text-anchor=\"start\" x=\"393\" y=\"-126.8\" font-family=\"Helvetica,sans-Serif\" font-size=\"14.00\">value = [55, 0, 56, 7]</text>\r\n",
       "<text text-anchor=\"start\" x=\"414\" y=\"-111.8\" font-family=\"Helvetica,sans-Serif\" font-size=\"14.00\">class = unacc</text>\r\n",
       "</g>\r\n",
       "<!-- 4&#45;&gt;8 -->\r\n",
       "<g id=\"edge8\" class=\"edge\"><title>4&#45;&gt;8</title>\r\n",
       "<path fill=\"none\" stroke=\"black\" d=\"M457.5,-222.907C457.5,-214.649 457.5,-205.864 457.5,-197.302\"/>\r\n",
       "<polygon fill=\"black\" stroke=\"black\" points=\"461,-197.021 457.5,-187.021 454,-197.021 461,-197.021\"/>\r\n",
       "</g>\r\n",
       "<!-- 6 -->\r\n",
       "<g id=\"node7\" class=\"node\"><title>6</title>\r\n",
       "<path fill=\"#399de5\" stroke=\"black\" d=\"M125,-68C125,-68 12,-68 12,-68 6,-68 0,-62 0,-56 0,-56 0,-12 0,-12 0,-6 6,-0 12,-0 12,-0 125,-0 125,-0 131,-0 137,-6 137,-12 137,-12 137,-56 137,-56 137,-62 131,-68 125,-68\"/>\r\n",
       "<text text-anchor=\"start\" x=\"39.5\" y=\"-52.8\" font-family=\"Helvetica,sans-Serif\" font-size=\"14.00\">gini = 0.0</text>\r\n",
       "<text text-anchor=\"start\" x=\"25\" y=\"-37.8\" font-family=\"Helvetica,sans-Serif\" font-size=\"14.00\">samples = 47</text>\r\n",
       "<text text-anchor=\"start\" x=\"8\" y=\"-22.8\" font-family=\"Helvetica,sans-Serif\" font-size=\"14.00\">value = [0, 0, 66, 0]</text>\r\n",
       "<text text-anchor=\"start\" x=\"25\" y=\"-7.8\" font-family=\"Helvetica,sans-Serif\" font-size=\"14.00\">class = unacc</text>\r\n",
       "</g>\r\n",
       "<!-- 5&#45;&gt;6 -->\r\n",
       "<g id=\"edge6\" class=\"edge\"><title>5&#45;&gt;6</title>\r\n",
       "<path fill=\"none\" stroke=\"black\" d=\"M168.294,-103.726C154.183,-94.0078 139.157,-83.6597 125.162,-74.0222\"/>\r\n",
       "<polygon fill=\"black\" stroke=\"black\" points=\"126.821,-70.9146 116.6,-68.1252 122.85,-76.6797 126.821,-70.9146\"/>\r\n",
       "</g>\r\n",
       "<!-- 7 -->\r\n",
       "<g id=\"node8\" class=\"node\"><title>7</title>\r\n",
       "<path fill=\"#eca572\" stroke=\"black\" d=\"M288,-68C288,-68 167,-68 167,-68 161,-68 155,-62 155,-56 155,-56 155,-12 155,-12 155,-6 161,-0 167,-0 167,-0 288,-0 288,-0 294,-0 300,-6 300,-12 300,-12 300,-56 300,-56 300,-62 294,-68 288,-68\"/>\r\n",
       "<text text-anchor=\"start\" x=\"190\" y=\"-52.8\" font-family=\"Helvetica,sans-Serif\" font-size=\"14.00\">gini = 0.346</text>\r\n",
       "<text text-anchor=\"start\" x=\"184\" y=\"-37.8\" font-family=\"Helvetica,sans-Serif\" font-size=\"14.00\">samples = 39</text>\r\n",
       "<text text-anchor=\"start\" x=\"163\" y=\"-22.8\" font-family=\"Helvetica,sans-Serif\" font-size=\"14.00\">value = [42, 0, 12, 0]</text>\r\n",
       "<text text-anchor=\"start\" x=\"184\" y=\"-7.8\" font-family=\"Helvetica,sans-Serif\" font-size=\"14.00\">class = unacc</text>\r\n",
       "</g>\r\n",
       "<!-- 5&#45;&gt;7 -->\r\n",
       "<g id=\"edge7\" class=\"edge\"><title>5&#45;&gt;7</title>\r\n",
       "<path fill=\"none\" stroke=\"black\" d=\"M227.5,-103.726C227.5,-95.5175 227.5,-86.8595 227.5,-78.56\"/>\r\n",
       "<polygon fill=\"black\" stroke=\"black\" points=\"231,-78.2996 227.5,-68.2996 224,-78.2996 231,-78.2996\"/>\r\n",
       "</g>\r\n",
       "<!-- 9 -->\r\n",
       "<g id=\"node10\" class=\"node\"><title>9</title>\r\n",
       "<path fill=\"#cce6f8\" stroke=\"black\" d=\"M451,-68C451,-68 330,-68 330,-68 324,-68 318,-62 318,-56 318,-56 318,-12 318,-12 318,-6 324,-0 330,-0 330,-0 451,-0 451,-0 457,-0 463,-6 463,-12 463,-12 463,-56 463,-56 463,-62 457,-68 451,-68\"/>\r\n",
       "<text text-anchor=\"start\" x=\"353\" y=\"-52.8\" font-family=\"Helvetica,sans-Serif\" font-size=\"14.00\">gini = 0.489</text>\r\n",
       "<text text-anchor=\"start\" x=\"347\" y=\"-37.8\" font-family=\"Helvetica,sans-Serif\" font-size=\"14.00\">samples = 54</text>\r\n",
       "<text text-anchor=\"start\" x=\"326\" y=\"-22.8\" font-family=\"Helvetica,sans-Serif\" font-size=\"14.00\">value = [32, 0, 43, 0]</text>\r\n",
       "<text text-anchor=\"start\" x=\"347\" y=\"-7.8\" font-family=\"Helvetica,sans-Serif\" font-size=\"14.00\">class = unacc</text>\r\n",
       "</g>\r\n",
       "<!-- 8&#45;&gt;9 -->\r\n",
       "<g id=\"edge9\" class=\"edge\"><title>8&#45;&gt;9</title>\r\n",
       "<path fill=\"none\" stroke=\"black\" d=\"M432.552,-103.726C427.194,-94.9703 421.524,-85.7032 416.141,-76.9051\"/>\r\n",
       "<polygon fill=\"black\" stroke=\"black\" points=\"419.08,-75.0028 410.875,-68.2996 413.109,-78.6563 419.08,-75.0028\"/>\r\n",
       "</g>\r\n",
       "<!-- 10 -->\r\n",
       "<g id=\"node11\" class=\"node\"><title>10</title>\r\n",
       "<path fill=\"#f6d5bd\" stroke=\"black\" d=\"M614,-68C614,-68 493,-68 493,-68 487,-68 481,-62 481,-56 481,-56 481,-12 481,-12 481,-6 487,-0 493,-0 493,-0 614,-0 614,-0 620,-0 626,-6 626,-12 626,-12 626,-56 626,-56 626,-62 620,-68 614,-68\"/>\r\n",
       "<text text-anchor=\"start\" x=\"516\" y=\"-52.8\" font-family=\"Helvetica,sans-Serif\" font-size=\"14.00\">gini = 0.596</text>\r\n",
       "<text text-anchor=\"start\" x=\"510\" y=\"-37.8\" font-family=\"Helvetica,sans-Serif\" font-size=\"14.00\">samples = 26</text>\r\n",
       "<text text-anchor=\"start\" x=\"489\" y=\"-22.8\" font-family=\"Helvetica,sans-Serif\" font-size=\"14.00\">value = [23, 0, 13, 7]</text>\r\n",
       "<text text-anchor=\"start\" x=\"510\" y=\"-7.8\" font-family=\"Helvetica,sans-Serif\" font-size=\"14.00\">class = unacc</text>\r\n",
       "</g>\r\n",
       "<!-- 8&#45;&gt;10 -->\r\n",
       "<g id=\"edge10\" class=\"edge\"><title>8&#45;&gt;10</title>\r\n",
       "<path fill=\"none\" stroke=\"black\" d=\"M493.247,-103.726C501.163,-94.6966 509.556,-85.1235 517.483,-76.0816\"/>\r\n",
       "<polygon fill=\"black\" stroke=\"black\" points=\"520.345,-78.1263 524.306,-68.2996 515.082,-73.5117 520.345,-78.1263\"/>\r\n",
       "</g>\r\n",
       "<!-- 12 -->\r\n",
       "<g id=\"node13\" class=\"node\"><title>12</title>\r\n",
       "<path fill=\"#efb083\" stroke=\"black\" d=\"M847,-187C847,-187 718,-187 718,-187 712,-187 706,-181 706,-175 706,-175 706,-116 706,-116 706,-110 712,-104 718,-104 718,-104 847,-104 847,-104 853,-104 859,-110 859,-116 859,-116 859,-175 859,-175 859,-181 853,-187 847,-187\"/>\r\n",
       "<text text-anchor=\"start\" x=\"745.5\" y=\"-171.8\" font-family=\"Helvetica,sans-Serif\" font-size=\"14.00\">safety ≤ 2.5</text>\r\n",
       "<text text-anchor=\"start\" x=\"745\" y=\"-156.8\" font-family=\"Helvetica,sans-Serif\" font-size=\"14.00\">gini = 0.397</text>\r\n",
       "<text text-anchor=\"start\" x=\"739\" y=\"-141.8\" font-family=\"Helvetica,sans-Serif\" font-size=\"14.00\">samples = 91</text>\r\n",
       "<text text-anchor=\"start\" x=\"714\" y=\"-126.8\" font-family=\"Helvetica,sans-Serif\" font-size=\"14.00\">value = [104, 0, 39, 0]</text>\r\n",
       "<text text-anchor=\"start\" x=\"739\" y=\"-111.8\" font-family=\"Helvetica,sans-Serif\" font-size=\"14.00\">class = unacc</text>\r\n",
       "</g>\r\n",
       "<!-- 11&#45;&gt;12 -->\r\n",
       "<g id=\"edge12\" class=\"edge\"><title>11&#45;&gt;12</title>\r\n",
       "<path fill=\"none\" stroke=\"black\" d=\"M782.5,-222.907C782.5,-214.649 782.5,-205.864 782.5,-197.302\"/>\r\n",
       "<polygon fill=\"black\" stroke=\"black\" points=\"786,-197.021 782.5,-187.021 779,-197.021 786,-197.021\"/>\r\n",
       "</g>\r\n",
       "<!-- 15 -->\r\n",
       "<g id=\"node16\" class=\"node\"><title>15</title>\r\n",
       "<path fill=\"#d0f8cd\" stroke=\"black\" d=\"M1117,-187C1117,-187 960,-187 960,-187 954,-187 948,-181 948,-175 948,-175 948,-116 948,-116 948,-110 954,-104 960,-104 960,-104 1117,-104 1117,-104 1123,-104 1129,-110 1129,-116 1129,-116 1129,-175 1129,-175 1129,-181 1123,-187 1117,-187\"/>\r\n",
       "<text text-anchor=\"start\" x=\"956\" y=\"-171.8\" font-family=\"Helvetica,sans-Serif\" font-size=\"14.00\">number_of_persons ≤ 1.5</text>\r\n",
       "<text text-anchor=\"start\" x=\"1005\" y=\"-156.8\" font-family=\"Helvetica,sans-Serif\" font-size=\"14.00\">gini = 0.67</text>\r\n",
       "<text text-anchor=\"start\" x=\"995\" y=\"-141.8\" font-family=\"Helvetica,sans-Serif\" font-size=\"14.00\">samples = 73</text>\r\n",
       "<text text-anchor=\"start\" x=\"970\" y=\"-126.8\" font-family=\"Helvetica,sans-Serif\" font-size=\"14.00\">value = [26, 51, 6, 30]</text>\r\n",
       "<text text-anchor=\"start\" x=\"995\" y=\"-111.8\" font-family=\"Helvetica,sans-Serif\" font-size=\"14.00\">class = unacc</text>\r\n",
       "</g>\r\n",
       "<!-- 11&#45;&gt;15 -->\r\n",
       "<g id=\"edge15\" class=\"edge\"><title>11&#45;&gt;15</title>\r\n",
       "<path fill=\"none\" stroke=\"black\" d=\"M867.744,-224.541C891.088,-213.872 916.576,-202.223 940.57,-191.257\"/>\r\n",
       "<polygon fill=\"black\" stroke=\"black\" points=\"942.045,-194.431 949.685,-187.091 939.135,-188.065 942.045,-194.431\"/>\r\n",
       "</g>\r\n",
       "<!-- 13 -->\r\n",
       "<g id=\"node14\" class=\"node\"><title>13</title>\r\n",
       "<path fill=\"#e68743\" stroke=\"black\" d=\"M769,-68C769,-68 656,-68 656,-68 650,-68 644,-62 644,-56 644,-56 644,-12 644,-12 644,-6 650,-0 656,-0 656,-0 769,-0 769,-0 775,-0 781,-6 781,-12 781,-12 781,-56 781,-56 781,-62 775,-68 769,-68\"/>\r\n",
       "<text text-anchor=\"start\" x=\"675\" y=\"-52.8\" font-family=\"Helvetica,sans-Serif\" font-size=\"14.00\">gini = 0.088</text>\r\n",
       "<text text-anchor=\"start\" x=\"669\" y=\"-37.8\" font-family=\"Helvetica,sans-Serif\" font-size=\"14.00\">samples = 44</text>\r\n",
       "<text text-anchor=\"start\" x=\"652\" y=\"-22.8\" font-family=\"Helvetica,sans-Serif\" font-size=\"14.00\">value = [62, 0, 3, 0]</text>\r\n",
       "<text text-anchor=\"start\" x=\"669\" y=\"-7.8\" font-family=\"Helvetica,sans-Serif\" font-size=\"14.00\">class = unacc</text>\r\n",
       "</g>\r\n",
       "<!-- 12&#45;&gt;13 -->\r\n",
       "<g id=\"edge13\" class=\"edge\"><title>12&#45;&gt;13</title>\r\n",
       "<path fill=\"none\" stroke=\"black\" d=\"M756.435,-103.726C750.837,-94.9703 744.913,-85.7032 739.289,-76.9051\"/>\r\n",
       "<polygon fill=\"black\" stroke=\"black\" points=\"742.123,-74.8399 733.787,-68.2996 736.225,-78.6103 742.123,-74.8399\"/>\r\n",
       "</g>\r\n",
       "<!-- 14 -->\r\n",
       "<g id=\"node15\" class=\"node\"><title>14</title>\r\n",
       "<path fill=\"#fbede3\" stroke=\"black\" d=\"M932,-68C932,-68 811,-68 811,-68 805,-68 799,-62 799,-56 799,-56 799,-12 799,-12 799,-6 805,-0 811,-0 811,-0 932,-0 932,-0 938,-0 944,-6 944,-12 944,-12 944,-56 944,-56 944,-62 938,-68 932,-68\"/>\r\n",
       "<text text-anchor=\"start\" x=\"834\" y=\"-52.8\" font-family=\"Helvetica,sans-Serif\" font-size=\"14.00\">gini = 0.497</text>\r\n",
       "<text text-anchor=\"start\" x=\"828\" y=\"-37.8\" font-family=\"Helvetica,sans-Serif\" font-size=\"14.00\">samples = 47</text>\r\n",
       "<text text-anchor=\"start\" x=\"807\" y=\"-22.8\" font-family=\"Helvetica,sans-Serif\" font-size=\"14.00\">value = [42, 0, 36, 0]</text>\r\n",
       "<text text-anchor=\"start\" x=\"828\" y=\"-7.8\" font-family=\"Helvetica,sans-Serif\" font-size=\"14.00\">class = unacc</text>\r\n",
       "</g>\r\n",
       "<!-- 12&#45;&gt;14 -->\r\n",
       "<g id=\"edge14\" class=\"edge\"><title>12&#45;&gt;14</title>\r\n",
       "<path fill=\"none\" stroke=\"black\" d=\"M815.64,-103.726C822.979,-94.6966 830.76,-85.1235 838.109,-76.0816\"/>\r\n",
       "<polygon fill=\"black\" stroke=\"black\" points=\"840.843,-78.2672 844.435,-68.2996 835.411,-73.8521 840.843,-78.2672\"/>\r\n",
       "</g>\r\n",
       "<!-- 16 -->\r\n",
       "<g id=\"node17\" class=\"node\"><title>16</title>\r\n",
       "<path fill=\"#f1fdf0\" stroke=\"black\" d=\"M1103,-68C1103,-68 974,-68 974,-68 968,-68 962,-62 962,-56 962,-56 962,-12 962,-12 962,-6 968,-0 974,-0 974,-0 1103,-0 1103,-0 1109,-0 1115,-6 1115,-12 1115,-12 1115,-56 1115,-56 1115,-62 1109,-68 1103,-68\"/>\r\n",
       "<text text-anchor=\"start\" x=\"1001\" y=\"-52.8\" font-family=\"Helvetica,sans-Serif\" font-size=\"14.00\">gini = 0.722</text>\r\n",
       "<text text-anchor=\"start\" x=\"995\" y=\"-37.8\" font-family=\"Helvetica,sans-Serif\" font-size=\"14.00\">samples = 35</text>\r\n",
       "<text text-anchor=\"start\" x=\"970\" y=\"-22.8\" font-family=\"Helvetica,sans-Serif\" font-size=\"14.00\">value = [15, 18, 6, 15]</text>\r\n",
       "<text text-anchor=\"start\" x=\"995\" y=\"-7.8\" font-family=\"Helvetica,sans-Serif\" font-size=\"14.00\">class = unacc</text>\r\n",
       "</g>\r\n",
       "<!-- 15&#45;&gt;16 -->\r\n",
       "<g id=\"edge16\" class=\"edge\"><title>15&#45;&gt;16</title>\r\n",
       "<path fill=\"none\" stroke=\"black\" d=\"M1038.5,-103.726C1038.5,-95.5175 1038.5,-86.8595 1038.5,-78.56\"/>\r\n",
       "<polygon fill=\"black\" stroke=\"black\" points=\"1042,-78.2996 1038.5,-68.2996 1035,-78.2996 1042,-78.2996\"/>\r\n",
       "</g>\r\n",
       "<!-- 17 -->\r\n",
       "<g id=\"node18\" class=\"node\"><title>17</title>\r\n",
       "<path fill=\"#b4f4ae\" stroke=\"black\" d=\"M1274,-68C1274,-68 1145,-68 1145,-68 1139,-68 1133,-62 1133,-56 1133,-56 1133,-12 1133,-12 1133,-6 1139,-0 1145,-0 1145,-0 1274,-0 1274,-0 1280,-0 1286,-6 1286,-12 1286,-12 1286,-56 1286,-56 1286,-62 1280,-68 1274,-68\"/>\r\n",
       "<text text-anchor=\"start\" x=\"1172\" y=\"-52.8\" font-family=\"Helvetica,sans-Serif\" font-size=\"14.00\">gini = 0.588</text>\r\n",
       "<text text-anchor=\"start\" x=\"1166\" y=\"-37.8\" font-family=\"Helvetica,sans-Serif\" font-size=\"14.00\">samples = 38</text>\r\n",
       "<text text-anchor=\"start\" x=\"1141\" y=\"-22.8\" font-family=\"Helvetica,sans-Serif\" font-size=\"14.00\">value = [11, 33, 0, 15]</text>\r\n",
       "<text text-anchor=\"start\" x=\"1166\" y=\"-7.8\" font-family=\"Helvetica,sans-Serif\" font-size=\"14.00\">class = unacc</text>\r\n",
       "</g>\r\n",
       "<!-- 15&#45;&gt;17 -->\r\n",
       "<g id=\"edge17\" class=\"edge\"><title>15&#45;&gt;17</title>\r\n",
       "<path fill=\"none\" stroke=\"black\" d=\"M1102.17,-103.726C1117.49,-93.9161 1133.82,-83.4644 1148.99,-73.7496\"/>\r\n",
       "<polygon fill=\"black\" stroke=\"black\" points=\"1151.24,-76.4654 1157.77,-68.1252 1147.46,-70.5704 1151.24,-76.4654\"/>\r\n",
       "</g>\r\n",
       "</g>\r\n",
       "</svg>\r\n"
      ],
      "text/plain": [
       "<graphviz.files.Source at 0x241b51002b0>"
      ]
     },
     "execution_count": 102,
     "metadata": {},
     "output_type": "execute_result"
    }
   ],
   "source": [
    "import graphviz\n",
    "data = tree.export_graphviz(rf_best.estimators_[5],feature_names=X_train.columns,class_names=y_train,filled=True,rounded=True,special_characters=True)\n",
    "graph = graphviz.Source(data)\n",
    "graph"
   ]
  },
  {
   "cell_type": "code",
   "execution_count": 103,
   "id": "0aab74e5-e827-4669-9213-de4347044f6b",
   "metadata": {},
   "outputs": [],
   "source": [
    "y_pred_forest = rf_best.predict(X_test)"
   ]
  },
  {
   "cell_type": "code",
   "execution_count": 104,
   "id": "aad1e851-b3ac-43c6-ae4d-d5387f5d136b",
   "metadata": {},
   "outputs": [
    {
     "name": "stdout",
     "output_type": "stream",
     "text": [
      "Model accuracy score in Random forest with criterion entropy index: 0.8581\n"
     ]
    }
   ],
   "source": [
    "from sklearn.metrics import accuracy_score\n",
    "\n",
    "print(\"Model accuracy score in Random forest with criterion entropy index: {0:0.4f}\".format(accuracy_score(y_test,y_pred_forest)))\n"
   ]
  },
  {
   "cell_type": "code",
   "execution_count": 105,
   "id": "5d81fc75-cd85-46ff-9435-1ed68817a50d",
   "metadata": {},
   "outputs": [
    {
     "name": "stdout",
     "output_type": "stream",
     "text": [
      "Training set Random Forest score 0.8600\n",
      "Test set Random Forest score 0.8581\n"
     ]
    }
   ],
   "source": [
    "print(\"Training set Random Forest score {:.4f}\".format(rf_best.score(X_train,y_train)))\n",
    "print(\"Test set Random Forest score {:.4f}\".format(rf_best.score(X_test,y_test)))"
   ]
  },
  {
   "cell_type": "code",
   "execution_count": 106,
   "id": "9a27d042-b226-448f-a635-119c14272a5e",
   "metadata": {},
   "outputs": [
    {
     "name": "stdout",
     "output_type": "stream",
     "text": [
      "Confusion Matrix\n",
      " [[113   0  16   0]\n",
      " [ 20   0   0   0]\n",
      " [ 20   0 377   0]\n",
      " [ 25   0   0   0]]\n"
     ]
    },
    {
     "data": {
      "text/html": [
       "<div>\n",
       "<style scoped>\n",
       "    .dataframe tbody tr th:only-of-type {\n",
       "        vertical-align: middle;\n",
       "    }\n",
       "\n",
       "    .dataframe tbody tr th {\n",
       "        vertical-align: top;\n",
       "    }\n",
       "\n",
       "    .dataframe thead th {\n",
       "        text-align: right;\n",
       "    }\n",
       "</style>\n",
       "<table border=\"1\" class=\"dataframe\">\n",
       "  <thead>\n",
       "    <tr style=\"text-align: right;\">\n",
       "      <th></th>\n",
       "      <th>Predicted acc</th>\n",
       "      <th>Predicted good</th>\n",
       "      <th>Predicted unacc</th>\n",
       "      <th>Predicted vgood</th>\n",
       "    </tr>\n",
       "  </thead>\n",
       "  <tbody>\n",
       "    <tr>\n",
       "      <th>Actual acc</th>\n",
       "      <td>113</td>\n",
       "      <td>0</td>\n",
       "      <td>16</td>\n",
       "      <td>0</td>\n",
       "    </tr>\n",
       "    <tr>\n",
       "      <th>Actual good</th>\n",
       "      <td>20</td>\n",
       "      <td>0</td>\n",
       "      <td>0</td>\n",
       "      <td>0</td>\n",
       "    </tr>\n",
       "    <tr>\n",
       "      <th>Actual unacc</th>\n",
       "      <td>20</td>\n",
       "      <td>0</td>\n",
       "      <td>377</td>\n",
       "      <td>0</td>\n",
       "    </tr>\n",
       "    <tr>\n",
       "      <th>Actual vgood</th>\n",
       "      <td>25</td>\n",
       "      <td>0</td>\n",
       "      <td>0</td>\n",
       "      <td>0</td>\n",
       "    </tr>\n",
       "  </tbody>\n",
       "</table>\n",
       "</div>"
      ],
      "text/plain": [
       "              Predicted acc  Predicted good  Predicted unacc  Predicted vgood\n",
       "Actual acc              113               0               16                0\n",
       "Actual good              20               0                0                0\n",
       "Actual unacc             20               0              377                0\n",
       "Actual vgood             25               0                0                0"
      ]
     },
     "execution_count": 106,
     "metadata": {},
     "output_type": "execute_result"
    }
   ],
   "source": [
    "from sklearn.metrics import confusion_matrix\n",
    "\n",
    "cm= confusion_matrix(y_test,y_pred_forest)\n",
    "from sklearn.utils.multiclass import unique_labels\n",
    "\n",
    "def plotconfusionbetter(y_true,y_pred):\n",
    "    labels = unique_labels(y_test)\n",
    "    column = [f'Predicted {label}' for label in labels]\n",
    "    index = [f'Actual {label}' for label in labels]\n",
    "    table = pd.DataFrame(confusion_matrix(y_true,y_pred),columns=column,index=index)\n",
    "    return table\n",
    "    \n",
    "print(\"Confusion Matrix\\n\",cm)\n",
    "plotconfusionbetter(y_test,y_pred_forest)"
   ]
  },
  {
   "cell_type": "code",
   "execution_count": 107,
   "id": "07cc60fb-9087-46a5-b407-99dab2b8b7b1",
   "metadata": {},
   "outputs": [
    {
     "name": "stdout",
     "output_type": "stream",
     "text": [
      "              precision    recall  f1-score   support\n",
      "\n",
      "         acc       0.63      0.88      0.74       129\n",
      "        good       0.00      0.00      0.00        20\n",
      "       unacc       0.96      0.95      0.95       397\n",
      "       vgood       0.00      0.00      0.00        25\n",
      "\n",
      "    accuracy                           0.86       571\n",
      "   macro avg       0.40      0.46      0.42       571\n",
      "weighted avg       0.81      0.86      0.83       571\n",
      "\n"
     ]
    },
    {
     "name": "stderr",
     "output_type": "stream",
     "text": [
      "C:\\Users\\sivap\\anaconda3\\envs\\tf-gpu\\lib\\site-packages\\sklearn\\metrics\\_classification.py:1318: UndefinedMetricWarning: Precision and F-score are ill-defined and being set to 0.0 in labels with no predicted samples. Use `zero_division` parameter to control this behavior.\n",
      "  _warn_prf(average, modifier, msg_start, len(result))\n",
      "C:\\Users\\sivap\\anaconda3\\envs\\tf-gpu\\lib\\site-packages\\sklearn\\metrics\\_classification.py:1318: UndefinedMetricWarning: Precision and F-score are ill-defined and being set to 0.0 in labels with no predicted samples. Use `zero_division` parameter to control this behavior.\n",
      "  _warn_prf(average, modifier, msg_start, len(result))\n",
      "C:\\Users\\sivap\\anaconda3\\envs\\tf-gpu\\lib\\site-packages\\sklearn\\metrics\\_classification.py:1318: UndefinedMetricWarning: Precision and F-score are ill-defined and being set to 0.0 in labels with no predicted samples. Use `zero_division` parameter to control this behavior.\n",
      "  _warn_prf(average, modifier, msg_start, len(result))\n"
     ]
    }
   ],
   "source": [
    "from sklearn.metrics import classification_report\n",
    "\n",
    "print(classification_report(y_test, y_pred_forest))"
   ]
  },
  {
   "cell_type": "markdown",
   "id": "915ec706-3ab5-4d28-a778-db114e2bd534",
   "metadata": {},
   "source": [
    "On the whole, we have built a Random forest tree model classifier with \n",
    "\n",
    "Gini index -- we get training set accuracy as \"0.8600\" while the test accuracy as \"0.8581\" which is more or less similar\n",
    "also we see good split we can interpret this from Classification report and confusion matrix\n",
    "From confusion matrix we see that acc and unacc gives good performance \n",
    "we have seen significant improvement in precision, recall, f1-score comparing to Decision tree.\n"
   ]
  }
 ],
 "metadata": {
  "kernelspec": {
   "display_name": "Python 3 (ipykernel)",
   "language": "python",
   "name": "python3"
  },
  "language_info": {
   "codemirror_mode": {
    "name": "ipython",
    "version": 3
   },
   "file_extension": ".py",
   "mimetype": "text/x-python",
   "name": "python",
   "nbconvert_exporter": "python",
   "pygments_lexer": "ipython3",
   "version": "3.9.7"
  }
 },
 "nbformat": 4,
 "nbformat_minor": 5
}
