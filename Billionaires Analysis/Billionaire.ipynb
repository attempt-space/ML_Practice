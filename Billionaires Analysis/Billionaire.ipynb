{
 "cells": [
  {
   "cell_type": "code",
   "execution_count": null,
   "id": "f1e3ae1d-e3a0-41a3-84ef-56ed19da0de6",
   "metadata": {},
   "outputs": [],
   "source": [
    "import pandas as pd\n",
    "import numpy as np\n",
    "import matplotlib.pyplot as plt\n",
    "import seaborn as sns\n",
    "import plotly.express as px\n",
    "import plotly.io as pio\n",
    "pio.renderers.default = 'iframe'\n",
    "data = pd.read_csv(\"Billionaire.csv\")"
   ]
  },
  {
   "cell_type": "code",
   "execution_count": null,
   "id": "0a1da70d-71d8-4bfa-91b3-a4d94c5897f4",
   "metadata": {},
   "outputs": [],
   "source": [
    "data.head()"
   ]
  },
  {
   "cell_type": "code",
   "execution_count": null,
   "id": "59233bc5-aac7-4f55-88c1-51b1f5810638",
   "metadata": {},
   "outputs": [],
   "source": [
    "data.describe()\n",
    "#data.isnull().sum()\n",
    "#data.dtypes"
   ]
  },
  {
   "cell_type": "code",
   "execution_count": null,
   "id": "2468afb5-cde7-4b87-bb9c-de4ab1d1c9cd",
   "metadata": {},
   "outputs": [],
   "source": [
    "data[\"NetWorth\"] = data.NetWorth.apply(lambda x:str(x).replace(\"$\",\"\"))\n",
    "data"
   ]
  },
  {
   "cell_type": "code",
   "execution_count": null,
   "id": "2136c404-d8a6-4185-924c-7664c4cffa37",
   "metadata": {},
   "outputs": [],
   "source": [
    "data[\"NetWorth\"] = data.NetWorth.apply(lambda x:str(x).replace(\"B\",\"\"))\n",
    "data[\"NetWorth\"] = data.NetWorth.apply(lambda x:str(x).replace(\" \",\"\"))\n",
    "data[\"NetWorth\"] = data.NetWorth.apply(lambda x:float(x))"
   ]
  },
  {
   "cell_type": "code",
   "execution_count": null,
   "id": "1d012911-2761-405b-91a7-8b2d5afb43df",
   "metadata": {},
   "outputs": [],
   "source": [
    "data.dtypes"
   ]
  },
  {
   "cell_type": "code",
   "execution_count": null,
   "id": "d16540e2-bf86-4dae-842c-7d971fad3d18",
   "metadata": {},
   "outputs": [],
   "source": [
    "data.NetWorth.sum()"
   ]
  },
  {
   "cell_type": "code",
   "execution_count": null,
   "id": "6d9ca047-629c-48f9-b396-a3aa24e93fec",
   "metadata": {},
   "outputs": [],
   "source": [
    "data.NetWorth.describe()"
   ]
  },
  {
   "cell_type": "code",
   "execution_count": null,
   "id": "ec94cc23-57cd-4bae-aeaa-c24bb0e2046c",
   "metadata": {},
   "outputs": [],
   "source": [
    "x = data.groupby(\"Name\").NetWorth.sum().sort_values(ascending=False).head(20)\n",
    "x"
   ]
  },
  {
   "cell_type": "code",
   "execution_count": null,
   "id": "94f20e48-0d89-4932-9619-65223879b52b",
   "metadata": {},
   "outputs": [],
   "source": [
    "datax = data[data[\"Rank\"]<20]\n",
    "datax"
   ]
  },
  {
   "cell_type": "code",
   "execution_count": null,
   "id": "db60c9a6-526f-419a-8aa1-68a737208f6e",
   "metadata": {
    "tags": []
   },
   "outputs": [],
   "source": [
    "ax= px.bar(datax,x= \"NetWorth\",y= \"Name\",color= \"NetWorth\",labels= {\"NetWorth\":\"Networth(in Billions)\"},template= \"plotly_dark\")\n",
    "ax.show()"
   ]
  },
  {
   "cell_type": "code",
   "execution_count": null,
   "id": "6f9a1585-0426-4bf7-a609-735b91bc3f3a",
   "metadata": {},
   "outputs": [],
   "source": [
    "x = data.groupby(\"Country\").NetWorth.sum().sort_values(ascending=False).head(20).to_frame().reset_index()\n",
    "ax= px.bar(x,x= \"NetWorth\",y= \"Country\",color= \"NetWorth\",labels= {\"NetWorth\":\"Total value(in Billions)\"},template= \"plotly_dark\")\n",
    "# ax = px.bar(x, x= \"NetWorth\",y=\"Country\", color= \"NetWorth\",labels={\"NetWorth\": \"Total value in Billions\"},template=\"plotly_dark\")\n",
    "ax.show()"
   ]
  },
  {
   "cell_type": "code",
   "execution_count": null,
   "id": "e5162530-b2e4-44ec-b512-e00f3284ee27",
   "metadata": {},
   "outputs": [],
   "source": [
    "data.Country.value_counts().head(20)"
   ]
  },
  {
   "cell_type": "code",
   "execution_count": null,
   "id": "3323eed2-8bf1-4979-8686-b4c8fab84d66",
   "metadata": {},
   "outputs": [],
   "source": [
    "#Tree map representing most number of Billionaires\n",
    "ax= px.treemap(data,path=[\"Country\"],template= \"plotly_dark\")\n",
    "ax.show()"
   ]
  },
  {
   "cell_type": "code",
   "execution_count": null,
   "id": "f3b3e3f0-0bc9-498f-8350-1a559a37375a",
   "metadata": {},
   "outputs": [],
   "source": [
    "data.groupby(\"Source\").NetWorth.sum().sort_values(ascending=False).head(20)"
   ]
  },
  {
   "cell_type": "code",
   "execution_count": null,
   "id": "0e011a13-592d-43bb-a852-1004e576c3cf",
   "metadata": {},
   "outputs": [],
   "source": [
    "#Top sources of Billionaires\n",
    "x= data.groupby(\"Source\").NetWorth.sum().sort_values(ascending= False).head(20).to_frame().reset_index()\n",
    "ax= px.bar(x,x= \"NetWorth\",y= \"Source\",color= \"NetWorth\",labels= {\"NetWorth\":\"Total value(in Billions)\"},template= \"plotly_dark\")\n",
    "ax.show()"
   ]
  },
  {
   "cell_type": "code",
   "execution_count": null,
   "id": "8cc07d8a-4fae-4364-90ec-878253d045fa",
   "metadata": {},
   "outputs": [],
   "source": [
    "data.groupby(\"Source\").NetWorth.sum().sort_values(ascending=False).head(20)"
   ]
  },
  {
   "cell_type": "code",
   "execution_count": null,
   "id": "076eb4bb-158f-45dc-8da1-36b31d336952",
   "metadata": {},
   "outputs": [],
   "source": [
    "#Tree map representing count of billionaires per source\n",
    "ax= px.treemap(data,path=[\"Source\"],template= \"plotly_dark\")\n",
    "ax.show()"
   ]
  },
  {
   "cell_type": "code",
   "execution_count": null,
   "id": "1deeeea9-e024-4d36-962c-cecdc07a653b",
   "metadata": {},
   "outputs": [],
   "source": [
    "x = data[data[\"Country\"]==\"India\"]"
   ]
  },
  {
   "cell_type": "code",
   "execution_count": null,
   "id": "a89a7354-c789-4b9b-941d-0498ce084cf4",
   "metadata": {},
   "outputs": [],
   "source": [
    "len(x)"
   ]
  },
  {
   "cell_type": "code",
   "execution_count": null,
   "id": "d3dbfd90-5ab1-4972-9ebe-3e251c46b171",
   "metadata": {},
   "outputs": [],
   "source": [
    "x.NetWorth.sum()"
   ]
  },
  {
   "cell_type": "code",
   "execution_count": null,
   "id": "382f8bf5-9f8e-419d-b581-4d4c3484c49e",
   "metadata": {},
   "outputs": [],
   "source": [
    "x.groupby(\"Name\").NetWorth.sum().sort_values(ascending=False).head(20)\n"
   ]
  },
  {
   "cell_type": "code",
   "execution_count": null,
   "id": "9d4ab7e2-e257-488a-976b-e346c1cf1deb",
   "metadata": {},
   "outputs": [],
   "source": [
    "dx= x.groupby(\"Name\").NetWorth.sum().sort_values(ascending= False).head(20).to_frame().reset_index()\n",
    "ax = px.pie(dx,names=\"Name\",values=\"NetWorth\")\n",
    "ax.show()"
   ]
  },
  {
   "cell_type": "code",
   "execution_count": null,
   "id": "1d8079e2-42b7-4303-9c91-3e3a60fbf915",
   "metadata": {},
   "outputs": [],
   "source": [
    "ax = px.treemap(x,path=[\"Source\"],template=\"plotly_dark\")\n",
    "ax.show()\n",
    "x"
   ]
  },
  {
   "cell_type": "code",
   "execution_count": null,
   "id": "83dcb3e0-4f57-4369-999e-af52fcb57514",
   "metadata": {},
   "outputs": [],
   "source": [
    "x.Source.value_counts().head(10)\n",
    "\n",
    "\"\"\"\n",
    "Final Conclusions:\n",
    "\n",
    "-2755 number of billionaires with 13 trillion dollars of net worth\n",
    "\n",
    "-Jeff Bezos and Elon Musk are richest on the planet\n",
    "\n",
    "-USA and China produce most number of billionaires and also total values\n",
    "\n",
    "-USA alone has 724 Billionaires contributing more than 4 Trillion dollars of networth\n",
    "\n",
    "-Real Estate and diversified sources contribute to the highest value of in terms of sources followed by Investments\n",
    "\n",
    "-140 Billionaires in India\n",
    "\n",
    "-Mukesh Ambani richest in India(84.5 Billion dollars)\n",
    "\n",
    "-pharmaceuticals and consumer goods are the top sources in India\n",
    "\n",
    "Inspired from Richie Rich - kaggle\n",
    "\n",
    "\"\"\"\n",
    "\n"
   ]
  }
 ],
 "metadata": {
  "kernelspec": {
   "display_name": "Python 3 (ipykernel)",
   "language": "python",
   "name": "python3"
  },
  "language_info": {
   "codemirror_mode": {
    "name": "ipython",
    "version": 3
   },
   "file_extension": ".py",
   "mimetype": "text/x-python",
   "name": "python",
   "nbconvert_exporter": "python",
   "pygments_lexer": "ipython3",
   "version": "3.8.3"
  }
 },
 "nbformat": 4,
 "nbformat_minor": 5
}
